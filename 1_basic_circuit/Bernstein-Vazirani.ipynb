{
 "cells": [
  {
   "cell_type": "markdown",
   "metadata": {},
   "source": [
    "## Bernstein-Vaziraniのアルゴリズム\n",
    "\n",
    "### 概要\n",
    "以下のような関数$f_a : \\{0, 1\\}^n \\rightarrow \\{0, 1\\}$を考えます。\n",
    "\n",
    "$f_a(x) = a \\cdot x\\quad mod \\quad 2$\n",
    "\n",
    "Bernstein-Vaziraniアルゴリズムを使うと１回の量子回路実行により$f_a(x)$で定められたビット列$a$を求めることができます。\n",
    "\n",
    "なお、$a, x \\in \\{0, 1\\}^n$はnbitのバイナリ列である。$f_a(x)$は外から知ることができないブラックボックスであるが、任意の入力$x \\in \\{0, 1\\}^n$に対して値を返すものとする。\n"
   ]
  },
  {
   "cell_type": "code",
   "execution_count": 1,
   "metadata": {},
   "outputs": [],
   "source": [
    "import numpy as np\n",
    "from qiskit import QuantumCircuit, Aer, execute"
   ]
  },
  {
   "cell_type": "code",
   "execution_count": 23,
   "metadata": {},
   "outputs": [],
   "source": [
    "def bv_oracle(n):\n",
    "\n",
    "    oracle_qc = QuantumCircuit(n)\n",
    "    #zゲートのためのバイナリ列\n",
    "    b = np.random.randint(1, 2**n)\n",
    "    b_str = format(b, \"0=\"+str(n)+\"b\")\n",
    "\n",
    "    for qubit in range(len(b_str)):\n",
    "        if b_str[qubit] == \"1\":\n",
    "            oracle_qc.z(qubit)\n",
    "\n",
    "    oracle_gate = oracle_qc.to_gate()\n",
    "    oracle_gate.name = \"Oracle\"\n",
    "\n",
    "    print(\"oracle is cleated. Binary : {}\".format(b_str[::-1]))\n",
    "\n",
    "    return oracle_gate\n"
   ]
  },
  {
   "cell_type": "code",
   "execution_count": 24,
   "metadata": {},
   "outputs": [],
   "source": [
    "def bv_algo(n):\n",
    "    bv_qc = QuantumCircuit(n, n)\n",
    "\n",
    "    bv_qc.h(range(n))\n",
    "\n",
    "    oracle_gate = bv_oracle(n)\n",
    "    bv_qc.append(oracle_gate, range(n))\n",
    "\n",
    "    \n",
    "    bv_qc.h(range(n))\n",
    "\n",
    "    bv_qc.measure(range(n), range(n))\n",
    "\n",
    "    return bv_qc"
   ]
  },
  {
   "cell_type": "code",
   "execution_count": 25,
   "metadata": {},
   "outputs": [
    {
     "name": "stdout",
     "output_type": "stream",
     "text": [
      "oracle is cleated. Binary : 0011\n"
     ]
    },
    {
     "data": {
      "image/png": "[encoded data removed]",
      "text/plain": [
       "<Figure size 447.797x325.08 with 1 Axes>"
      ]
     },
     "execution_count": 25,
     "metadata": {},
     "output_type": "execute_result"
    }
   ],
   "source": [
    "from qiskit.visualization import plot_histogram\n",
    "n = 4\n",
    "bv_circuit = bv_algo(n)\n",
    "bv_circuit.draw(output=\"mpl\")"
   ]
  },
  {
   "cell_type": "code",
   "execution_count": 26,
   "metadata": {},
   "outputs": [],
   "source": [
    "def get_count(qc, back_end=\"qasm_simulator\", shots = 1024):\n",
    "    back_end = Aer.get_backend(back_end)\n",
    "    results = execute(qc, backend=back_end, shots=shots).result()\n",
    "    count_num = results.get_counts()\n",
    "    return count_num"
   ]
  },
  {
   "cell_type": "code",
   "execution_count": 27,
   "metadata": {},
   "outputs": [
    {
     "name": "stdout",
     "output_type": "stream",
     "text": [
      "{'0000': 1024}\n"
     ]
    },
    {
     "data": {
      "image/png": "[encoded data removed]",
      "text/plain": [
       "<Figure size 504x360 with 1 Axes>"
      ]
     },
     "execution_count": 27,
     "metadata": {},
     "output_type": "execute_result"
    }
   ],
   "source": [
    "count_num = get_count(bv_circuit)\n",
    "print(count_num)\n",
    "plot_histogram(count_num)"
   ]
  },
  {
   "cell_type": "code",
   "execution_count": null,
   "metadata": {},
   "outputs": [],
   "source": []
  },
  {
   "cell_type": "code",
   "execution_count": null,
   "metadata": {},
   "outputs": [],
   "source": []
  }
 ],
 "metadata": {
  "interpreter": {
   "hash": "916dbcbb3f70747c44a77c7bcd40155683ae19c65e1c03b4aa3499c5328201f1"
  },
  "kernelspec": {
   "display_name": "Python 3.8.5 64-bit",
   "name": "python3"
  },
  "language_info": {
   "codemirror_mode": {
    "name": "ipython",
    "version": 3
   },
   "file_extension": ".py",
   "mimetype": "text/x-python",
   "name": "python",
   "nbconvert_exporter": "python",
   "pygments_lexer": "ipython3",
   "version": "3.8.5"
  },
  "orig_nbformat": 4
 },
 "nbformat": 4,
 "nbformat_minor": 2
}